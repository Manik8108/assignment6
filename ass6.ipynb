{
 "cells": [
  {
   "cell_type": "code",
   "execution_count": 3,
   "id": "62e6347f-043a-498a-8676-97e4f6a46384",
   "metadata": {},
   "outputs": [
    {
     "name": "stdout",
     "output_type": "stream",
     "text": [
      "deque([])\n"
     ]
    }
   ],
   "source": [
    "1. #Why might you choose a deque from the collections module to implement a queue instead of using a regular python list?\n",
    "\n",
    "#The name deque is short for double_ended queue and it's pronounced like \"deck\".The deque object from collections is a list like object that supports fast append and pops from both sides.It is much more efficient for these operations at the left end, especially as the size of the queue increase.\n",
    "from collections import deque\n",
    "queue = deque()\n",
    "print(queue)"
   ]
  },
  {
   "cell_type": "code",
   "execution_count": null,
   "id": "b602ee79-7037-4ec8-828d-6d14f1ffe1d5",
   "metadata": {},
   "outputs": [],
   "source": [
    "2. #Can you explain the real world scenario where using a stack would be more practical choice than a list for data storage and retrieval?\n",
    "\n",
    "#Stack is a linear data structure which stores items in a  lasi in first out(LIFO) manner.\n",
    "#examples of stacks in reallife: A stack of plates in a cupboard, The stack of trays in a cafeteria."
   ]
  },
  {
   "cell_type": "code",
   "execution_count": 1,
   "id": "249b6598-f736-4825-ae0d-1c699e0bd7e9",
   "metadata": {},
   "outputs": [
    {
     "name": "stdout",
     "output_type": "stream",
     "text": [
      "{1, 2, 3, 4}\n"
     ]
    }
   ],
   "source": [
    "3. #What is the primary advantage of using sets in python, and in what type of problem solving scenarios are they most useful?\n",
    "\n",
    "# Set can be used to store unique values in order to avoid duplications of elements present in the set.\n",
    "#Set are dynamnic, so there is no error of  overflowing of the set.\n",
    "#Sets provide fast and efficient operations for checking if an element is present in the set or not.\n",
    "          \n",
    "    # Python sets are changeable, which means they can be changed after they are created. Sets can also be utilized to conduct mathematical set operations such as union ,intersection,and symmetric difference among others.\n",
    "My_set = {1,2,3,4}\n",
    "print(My_set)"
   ]
  },
  {
   "cell_type": "code",
   "execution_count": 2,
   "id": "252fae20-a65d-4c9f-b1ce-1ec7d4e2bf05",
   "metadata": {},
   "outputs": [
    {
     "name": "stdout",
     "output_type": "stream",
     "text": [
      "[1 2 3 4 5]\n"
     ]
    }
   ],
   "source": [
    "4. #When might you choose to use an array istead of a list for storing numerical data in python? what benefits do arrays offer in this context?\n",
    "\n",
    "# Arrays are useful for storing data that needs to be accessed in a specific order, such as sequence of numbers, a list of students while lists are mutable  that they can be changed after they are created.\n",
    "\n",
    "#Benefits >> Array can store only one type of elements.\n",
    "#It can hold multiple values in a single variable.\n",
    "#The size of array is not fixed.\n",
    "#Methods that are useful to process the elements of any array are available in array module.\n",
    "\n",
    "import numpy as np\n",
    "arr = np.array([1,2,3,4,5])\n",
    "print(arr)"
   ]
  },
  {
   "cell_type": "code",
   "execution_count": 6,
   "id": "43020688-a8e3-4541-a5af-aaec02a3be33",
   "metadata": {},
   "outputs": [
    {
     "name": "stdout",
     "output_type": "stream",
     "text": [
      "{'Name': 'Pravya', 'age': 15, 'Gender': 'Female'}\n"
     ]
    }
   ],
   "source": [
    "5. #In python, what's the primary difference between dictionaries and lists and how does this difference impact their use cases in programming?\n",
    "\n",
    "# Dictionary>> It is an unordered collection of data in a key:value pair form. Values are accessed using keys.It is mutable values can be updated, and key: value pairs can be added and removed. It can uses curly braces{}.\n",
    "\n",
    "#Example\n",
    "d = {\"Name\": \"Pravya\", \"age\": 15, \"Gender\" : \"Female\"}\n",
    "print(d)\n"
   ]
  },
  {
   "cell_type": "code",
   "execution_count": 4,
   "id": "c62fb57f-5d39-4553-b313-62bfd3bab328",
   "metadata": {},
   "outputs": [
    {
     "name": "stdout",
     "output_type": "stream",
     "text": [
      "[1, 2, 'Sonia', (3+5j), 3.6]\n"
     ]
    }
   ],
   "source": [
    "# list>> It is an ordered collection of items. items can be accessed by index, starting from 0.It is mutable Items can be modified after creation. It uses square brackets[].\n",
    "\n",
    "# Example : \n",
    "list = [1,2,\"Sonia\", 3+5j,3.6]\n",
    "print(list)"
   ]
  },
  {
   "cell_type": "code",
   "execution_count": null,
   "id": "d56c97af-fbc1-488b-8bd1-e906efa3e6d6",
   "metadata": {},
   "outputs": [],
   "source": []
  }
 ],
 "metadata": {
  "kernelspec": {
   "display_name": "Python 3 (ipykernel)",
   "language": "python",
   "name": "python3"
  },
  "language_info": {
   "codemirror_mode": {
    "name": "ipython",
    "version": 3
   },
   "file_extension": ".py",
   "mimetype": "text/x-python",
   "name": "python",
   "nbconvert_exporter": "python",
   "pygments_lexer": "ipython3",
   "version": "3.10.8"
  }
 },
 "nbformat": 4,
 "nbformat_minor": 5
}
